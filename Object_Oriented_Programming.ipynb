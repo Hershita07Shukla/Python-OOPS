{
  "nbformat": 4,
  "nbformat_minor": 0,
  "metadata": {
    "colab": {
      "provenance": []
    },
    "kernelspec": {
      "name": "python3",
      "display_name": "Python 3"
    },
    "language_info": {
      "name": "python"
    }
  },
  "cells": [
    {
      "cell_type": "markdown",
      "source": [
        "OOPS concept maps with the real world scenarios,we started using obejcts in code.\n",
        "There are 3 type of programming:\n",
        "\n",
        "\n",
        "*  Procedural (in sequence line by line code)\n",
        "*  functional(using functions in the code)\n",
        "*  Oops (classes and objects)\n",
        "\n",
        "\n",
        "\n",
        "---\n",
        "\n",
        "\n",
        "### **Class and objects in python-**\n",
        "Class is a blueprint to create objects.\n",
        "eg: If there are some students in a class and we want to access the names of one of the student. Class defines what information will it display while the object is triggered.\n",
        "Pick any default name and give an example to the class.\n",
        "\n",
        "\n",
        "\n"
      ],
      "metadata": {
        "id": "J79TtrPA6v_t"
      }
    },
    {
      "cell_type": "code",
      "execution_count": null,
      "metadata": {
        "id": "UdJgYp-wXDBM",
        "outputId": "8c92405a-8aa7-451b-c349-8d73b99ae826",
        "colab": {
          "base_uri": "https://localhost:8080/"
        }
      },
      "outputs": [
        {
          "output_type": "stream",
          "name": "stdout",
          "text": [
            "Priya\n"
          ]
        }
      ],
      "source": [
        "class student:\n",
        "  name=\"Priya\"\n",
        "s1= student()\n",
        "print(s1.name)"
      ]
    },
    {
      "cell_type": "markdown",
      "source": [
        "## The  __init__() function\n",
        "\n",
        "---\n",
        "\n",
        "\n",
        "This functions is executed while an object is created by default if it is mentioned by the programmer in the code or not in code.\n",
        "\n"
      ],
      "metadata": {
        "id": "dYr84JI69ktm"
      }
    },
    {
      "cell_type": "code",
      "source": [
        "class student:\n",
        "  def __init__(self):\n",
        "    print(\"adding new student in database...\")"
      ],
      "metadata": {
        "id": "1nULWAwP-Qsg"
      },
      "execution_count": null,
      "outputs": []
    },
    {
      "cell_type": "markdown",
      "source": [
        "The above didn't print anything but when we will create an object it will run"
      ],
      "metadata": {
        "id": "p_B1gw4d-rSl"
      }
    },
    {
      "cell_type": "code",
      "source": [
        "class student:\n",
        "  def __init__(self):\n",
        "    print(self)                                   ##### check what is self\n",
        "    print (\"adding new student in database...\")\n",
        "s1= student()                                     ##### now obect is made####"
      ],
      "metadata": {
        "colab": {
          "base_uri": "https://localhost:8080/"
        },
        "id": "GsSu3utf-5Vi",
        "outputId": "f19b3fa5-ffad-4f3c-8494-15f22ee15c9b"
      },
      "execution_count": null,
      "outputs": [
        {
          "output_type": "stream",
          "name": "stdout",
          "text": [
            "<__main__.student object at 0x7aa90620f700>\n",
            "adding new student in database...\n"
          ]
        }
      ]
    },
    {
      "cell_type": "markdown",
      "source": [
        "__Within the constructor we can take various parameters as well which will help is access particular information about let's say a particular student in the class.__\n",
        "\n",
        "\n",
        "---\n",
        "\n",
        "\n",
        "*   The data that we are defining for self are known as ATTRIBUTES, Eg. name,age\n",
        "\n"
      ],
      "metadata": {
        "id": "39xZaY4yJIVH"
      }
    },
    {
      "cell_type": "code",
      "source": [
        "class student:\n",
        "  def __init__(self,fullname,age):\n",
        "    # print(self)\n",
        "    self.name=fullname\n",
        "    self.age=age                             ####### how to define features of a class\n",
        "    print (\"adding new student in database...\")\n",
        "\n",
        "s1= student(\"karan\",13)\n",
        "\n",
        "print(s1.name)"
      ],
      "metadata": {
        "colab": {
          "base_uri": "https://localhost:8080/"
        },
        "id": "62SU4xChJgjy",
        "outputId": "42c41cb6-43eb-4d64-d3c1-1a66fb354d7a"
      },
      "execution_count": null,
      "outputs": [
        {
          "output_type": "stream",
          "name": "stdout",
          "text": [
            "adding new student in database...\n",
            "karan\n"
          ]
        }
      ]
    },
    {
      "cell_type": "markdown",
      "source": [
        "There are two types of constructors:\n",
        "\n",
        "*   default constructors- no parameters, this is made by python by default\n",
        "*   parameterized constructor-with parameters\n",
        "\n",
        "Usually in one class two constructors are not generally used.\n",
        "\n"
      ],
      "metadata": {
        "id": "NcVdhLg9MFVa"
      }
    },
    {
      "cell_type": "code",
      "source": [
        "class student:\n",
        "\n",
        "  def __init__(self):                           #default constructors\n",
        "    pass\n",
        "  def __init__(self,fullname,age):              #parameterized constructors\n",
        "    # print(self)\n",
        "    self.name=fullname\n",
        "    self.age=age\n",
        "    print (\"adding new student in database...\")\n",
        "\n",
        "s1= student(\"karan\",13)\n",
        "\n",
        "print(s1.name)"
      ],
      "metadata": {
        "id": "zjpLOl5rM-az"
      },
      "execution_count": null,
      "outputs": []
    },
    {
      "cell_type": "markdown",
      "source": [
        "# ATTRIBUTES\n",
        "\n",
        "---\n",
        "\n",
        "\n",
        "There are two types of attributes:\n",
        "\n",
        "\n",
        "*   **Class attributes**- ones which are common in all like college name,class standard etc.These attributes helps as objects occupy space in memory so repeating the same data will use unecessary space.\n",
        "*   **object/instance attributes**- ones that are different for every object eg. name is different, age can be different. We usually write it as \"*self.name*\".\n",
        "\n",
        "---\n",
        "Precedence of which???? if we mention name attribute in both ways the object attribute will have a greater precedence.\n",
        "\n",
        "\n",
        "\n",
        "\n",
        "\n",
        "\n",
        "\n",
        "\n",
        "\n"
      ],
      "metadata": {
        "id": "9NhlJneFNltR"
      }
    },
    {
      "cell_type": "code",
      "source": [
        "class student:\n",
        "  college_name=\" ABC COLLEGE\"                     ## class attribute which is stored once in the memory\n",
        "  name=\"anonymous\"                                ## precedence\n",
        "  def __init__(self,fullname,age):\n",
        "\n",
        "    self.name=fullname                           ## instance/object attribute\n",
        "    self.age=age\n",
        "    print (\"adding new student in database...\")\n",
        "\n",
        "s1= student(\"karan\",13)\n",
        "print(s1.name,s1.age,s1.college_name)\n"
      ],
      "metadata": {
        "colab": {
          "base_uri": "https://localhost:8080/"
        },
        "id": "J-7iWBQnPppl",
        "outputId": "948055d8-6e6e-4f64-e776-1f542c1aa8ef"
      },
      "execution_count": null,
      "outputs": [
        {
          "output_type": "stream",
          "name": "stdout",
          "text": [
            "adding new student in database...\n",
            "karan 13  ABC COLLEGE\n"
          ]
        }
      ]
    },
    {
      "cell_type": "markdown",
      "source": [
        "# METHODS\n",
        " Methods are functions that belong to objects.They are like functions defined in a class."
      ],
      "metadata": {
        "id": "-VAv09nxXZ8A"
      }
    },
    {
      "cell_type": "code",
      "source": [
        "#creating class\n",
        "class student:\n",
        "  def __init__(self, fullname):\n",
        "    self.name=fullname\n",
        "\n",
        "  def hello(self):\n",
        "    print(\"hello\",self.name)\n",
        "\n",
        "#creating object\n",
        "s1=student(\"karan\")\n",
        "s1.hello()"
      ],
      "metadata": {
        "colab": {
          "base_uri": "https://localhost:8080/"
        },
        "id": "E80oumLtj9uT",
        "outputId": "324faa75-3c6e-449a-90ce-e49541740fc5"
      },
      "execution_count": null,
      "outputs": [
        {
          "output_type": "stream",
          "name": "stdout",
          "text": [
            "hello karan\n"
          ]
        }
      ]
    },
    {
      "cell_type": "markdown",
      "source": [
        "# Let's practice\n",
        "\n",
        "Create student class that takes name and marks of 3 subjects as arguments in the constructor. Then create a method to print the average"
      ],
      "metadata": {
        "id": "s_QdYyBFuikZ"
      }
    },
    {
      "cell_type": "code",
      "source": [
        "class student():\n",
        "  def __init__(self,fullname,marks):\n",
        "      self.name=fullname\n",
        "      self.marks=marks\n",
        "  def avg(self):\n",
        "      sum=0\n",
        "      for val in self.marks:\n",
        "          sum+=val\n",
        "      print(\"hi\",self.name,\",your average score is\",sum/3)\n",
        "\n",
        "s1=student(\"priya\",[21,24,29])\n",
        "s1.avg()"
      ],
      "metadata": {
        "colab": {
          "base_uri": "https://localhost:8080/"
        },
        "id": "ihvglUC1u5Lc",
        "outputId": "445308bb-f398-4b34-8fc5-d8e653aea97a"
      },
      "execution_count": null,
      "outputs": [
        {
          "output_type": "stream",
          "name": "stdout",
          "text": [
            "hi priya ,your average score is 24.666666666666668\n"
          ]
        }
      ]
    },
    {
      "cell_type": "markdown",
      "source": [
        "#Static Methods\n",
        "Methods that don't use self are static methods (work at class level just like class atributes).A decorator takes function as an input and gives function as an output."
      ],
      "metadata": {
        "id": "kj2dW7evxpw0"
      }
    },
    {
      "cell_type": "code",
      "source": [
        "#creating class\n",
        "class student:\n",
        "\n",
        "  @staticmethod                           ### DECORATOR\n",
        "  def college():\n",
        "    print(\"ABC COLLEGE\")\n",
        "  def __init__(self, fullname):\n",
        "    self.name=fullname\n",
        "\n",
        "  def hello(self):\n",
        "    print(\"hello\",self.name)\n",
        "\n",
        "#creating object\n",
        "s1=student(\"karan\")\n",
        "s1.hello()\n",
        "s1.college()  #### no self...function as input and gievs function as an output"
      ],
      "metadata": {
        "colab": {
          "base_uri": "https://localhost:8080/"
        },
        "id": "vLOAMitZyK3M",
        "outputId": "49257cb8-4915-4e0c-add2-40fc18d427ed"
      },
      "execution_count": null,
      "outputs": [
        {
          "output_type": "stream",
          "name": "stdout",
          "text": [
            "hello karan\n",
            "ABC COLLEGE\n"
          ]
        }
      ]
    },
    {
      "cell_type": "markdown",
      "source": [
        "# ABSTRACTION (ABSTRACT/UNCLEAR)\n",
        "Hiding the implementation details of a class and only showing the essential faetures to the user. Example while driving a car we can use clutch or brakes but the unnecesary background tasks are not visible to the user.\n",
        "\n",
        "---\n",
        "\n",
        "\n",
        "# ENCAPSULATION\n",
        "Wrapping the data and functions into a single unit(object)"
      ],
      "metadata": {
        "id": "OTeN_Fw3zPkq"
      }
    },
    {
      "cell_type": "code",
      "source": [
        "class car:\n",
        "  def __init__(self):\n",
        "     self.acc =False      #------|                                                                                    -------------|\n",
        "     self.brk =False            #|-------> this detail was not necessary to know, here is an example of abstarction                |\n",
        "     self.clutch=False    #------|                                                                                                 |\n",
        "                            #                                                                                                      |------------> data and function both capsuled together in a class so encapsulations\n",
        "  def start(self):          #                                                                                                      |\n",
        "     self.acc =True         #                                                                                                      |\n",
        "     self.clutch=True       #                                                                                                      |\n",
        "     print(\"car started...\")#                                                                                         -------------|\n",
        "\n",
        "car1=car()\n",
        "car1.start()"
      ],
      "metadata": {
        "colab": {
          "base_uri": "https://localhost:8080/"
        },
        "id": "OLYJa6SM0aiJ",
        "outputId": "18c8c454-9f9f-4bc3-e055-d2e99916bd88"
      },
      "execution_count": null,
      "outputs": [
        {
          "output_type": "stream",
          "name": "stdout",
          "text": [
            "car started...\n"
          ]
        }
      ]
    },
    {
      "cell_type": "markdown",
      "source": [
        "# Let's practice\n",
        "\n",
        "Create account class with 2 attributes-balance and account number. Creat methods for debit,credit and printing balance."
      ],
      "metadata": {
        "id": "awXDPmYg3sUG"
      }
    },
    {
      "cell_type": "code",
      "source": [
        "from os import stat\n",
        "class account:\n",
        "\n",
        "  def __init__(self,balance,acn):\n",
        "    self.bal=balance\n",
        "    self.acn=acn\n",
        "  def debit(self,diff):\n",
        "    print(\"amount debited is\",diff)\n",
        "    self.bal=self.bal-diff\n",
        "    print(\"amount after debit is\",self.bal)\n",
        "\n",
        "  def credit(self,add):\n",
        "\n",
        "    print(\"amount credited is\",add)\n",
        "    self.bal=self.bal+add\n",
        "    print(\"amount after credit is\",self.bal)\n",
        "\n",
        "account1=account(100000,7892)\n",
        "account1.debit(1000)\n"
      ],
      "metadata": {
        "colab": {
          "base_uri": "https://localhost:8080/"
        },
        "id": "38DaCLmn4Cos",
        "outputId": "0730b2cf-3690-4a35-a66b-ee8fdf0f3225"
      },
      "execution_count": null,
      "outputs": [
        {
          "output_type": "stream",
          "name": "stdout",
          "text": [
            "amount debited is 1000\n",
            "amount after debit is 99000\n"
          ]
        }
      ]
    }
  ]
}